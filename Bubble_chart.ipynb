{
 "cells": [
  {
   "cell_type": "code",
   "execution_count": 1,
   "id": "e7b74a9b",
   "metadata": {},
   "outputs": [],
   "source": [
    "import pandas as pd\n",
    "import numpy as np\n",
    "import matplotlib.pyplot as plt\n",
    "import seaborn as sns"
   ]
  },
  {
   "cell_type": "code",
   "execution_count": 142,
   "id": "32187e85",
   "metadata": {},
   "outputs": [
    {
     "name": "stdout",
     "output_type": "stream",
     "text": [
      "<class 'pandas.core.frame.DataFrame'>\n",
      "RangeIndex: 25 entries, 0 to 24\n",
      "Data columns (total 8 columns):\n",
      " #   Column           Non-Null Count  Dtype  \n",
      "---  ------           --------------  -----  \n",
      " 0   region           25 non-null     object \n",
      " 1   wheat            25 non-null     float64\n",
      " 2   maize for grain  25 non-null     float64\n",
      " 3   barley           23 non-null     float64\n",
      " 4   rye              21 non-null     float64\n",
      " 5   oat              22 non-null     float64\n",
      " 6   buckwheat        21 non-null     float64\n",
      " 7   millet           18 non-null     float64\n",
      "dtypes: float64(7), object(1)\n",
      "memory usage: 1.7+ KB\n"
     ]
    }
   ],
   "source": [
    "#df=pd.read_excel('/Users/tetianayukhymenko/Documents/Code/Visualizations/bubble.xlsx')\n",
    "df=pd.read_excel('Stock_grains.xlsx')\n",
    "\n",
    "#df.set_index(['cat', 'sub_cat'], inplace=True)\n",
    "df.info()"
   ]
  },
  {
   "cell_type": "code",
   "execution_count": 93,
   "id": "b391e0fb",
   "metadata": {},
   "outputs": [
    {
     "data": {
      "text/html": [
       "<div>\n",
       "<style scoped>\n",
       "    .dataframe tbody tr th:only-of-type {\n",
       "        vertical-align: middle;\n",
       "    }\n",
       "\n",
       "    .dataframe tbody tr th {\n",
       "        vertical-align: top;\n",
       "    }\n",
       "\n",
       "    .dataframe thead th {\n",
       "        text-align: right;\n",
       "    }\n",
       "</style>\n",
       "<table border=\"1\" class=\"dataframe\">\n",
       "  <thead>\n",
       "    <tr style=\"text-align: right;\">\n",
       "      <th></th>\n",
       "      <th>cat</th>\n",
       "      <th>sub_cat</th>\n",
       "      <th>variable</th>\n",
       "      <th>value</th>\n",
       "    </tr>\n",
       "  </thead>\n",
       "  <tbody>\n",
       "    <tr>\n",
       "      <th>0</th>\n",
       "      <td>Інфраструктура</td>\n",
       "      <td>дороги</td>\n",
       "      <td>Вінницька</td>\n",
       "      <td>NaN</td>\n",
       "    </tr>\n",
       "    <tr>\n",
       "      <th>1</th>\n",
       "      <td>Інфраструктура</td>\n",
       "      <td>мости, шляхопроводи</td>\n",
       "      <td>Вінницька</td>\n",
       "      <td>NaN</td>\n",
       "    </tr>\n",
       "    <tr>\n",
       "      <th>2</th>\n",
       "      <td>Інфраструктура</td>\n",
       "      <td>морські порти</td>\n",
       "      <td>Вінницька</td>\n",
       "      <td>NaN</td>\n",
       "    </tr>\n",
       "    <tr>\n",
       "      <th>3</th>\n",
       "      <td>Інфраструктура</td>\n",
       "      <td>торгівельні склади</td>\n",
       "      <td>Вінницька</td>\n",
       "      <td>NaN</td>\n",
       "    </tr>\n",
       "    <tr>\n",
       "      <th>4</th>\n",
       "      <td>Інфраструктура</td>\n",
       "      <td>склади паливно-мастильних матеріалів, нафтобази</td>\n",
       "      <td>Вінницька</td>\n",
       "      <td>NaN</td>\n",
       "    </tr>\n",
       "    <tr>\n",
       "      <th>...</th>\n",
       "      <td>...</td>\n",
       "      <td>...</td>\n",
       "      <td>...</td>\n",
       "      <td>...</td>\n",
       "    </tr>\n",
       "    <tr>\n",
       "      <th>970</th>\n",
       "      <td>цінне рухоме майно</td>\n",
       "      <td>потяги та вагони</td>\n",
       "      <td>невідомо</td>\n",
       "      <td>10.917300</td>\n",
       "    </tr>\n",
       "    <tr>\n",
       "      <th>971</th>\n",
       "      <td>цінне рухоме майно</td>\n",
       "      <td>громадський транспорт</td>\n",
       "      <td>невідомо</td>\n",
       "      <td>NaN</td>\n",
       "    </tr>\n",
       "    <tr>\n",
       "      <th>972</th>\n",
       "      <td>цінне рухоме майно</td>\n",
       "      <td>легкові автомобілі</td>\n",
       "      <td>невідомо</td>\n",
       "      <td>1522.328984</td>\n",
       "    </tr>\n",
       "    <tr>\n",
       "      <th>973</th>\n",
       "      <td>цінне рухоме майно</td>\n",
       "      <td>службовий транспорт</td>\n",
       "      <td>невідомо</td>\n",
       "      <td>7.765000</td>\n",
       "    </tr>\n",
       "    <tr>\n",
       "      <th>974</th>\n",
       "      <td>цінне рухоме майно</td>\n",
       "      <td>судна</td>\n",
       "      <td>невідомо</td>\n",
       "      <td>35.000000</td>\n",
       "    </tr>\n",
       "  </tbody>\n",
       "</table>\n",
       "<p>975 rows × 4 columns</p>\n",
       "</div>"
      ],
      "text/plain": [
       "                    cat                                          sub_cat  \\\n",
       "0        Інфраструктура                                           дороги   \n",
       "1        Інфраструктура                              мости, шляхопроводи   \n",
       "2        Інфраструктура                                    морські порти   \n",
       "3        Інфраструктура                              торгівельні склади    \n",
       "4        Інфраструктура  склади паливно-мастильних матеріалів, нафтобази   \n",
       "..                  ...                                              ...   \n",
       "970  цінне рухоме майно                                 потяги та вагони   \n",
       "971  цінне рухоме майно                            громадський транспорт   \n",
       "972  цінне рухоме майно                               легкові автомобілі   \n",
       "973  цінне рухоме майно                              службовий транспорт   \n",
       "974  цінне рухоме майно                                            судна   \n",
       "\n",
       "      variable        value  \n",
       "0    Вінницька          NaN  \n",
       "1    Вінницька          NaN  \n",
       "2    Вінницька          NaN  \n",
       "3    Вінницька          NaN  \n",
       "4    Вінницька          NaN  \n",
       "..         ...          ...  \n",
       "970   невідомо    10.917300  \n",
       "971   невідомо          NaN  \n",
       "972   невідомо  1522.328984  \n",
       "973   невідомо     7.765000  \n",
       "974   невідомо    35.000000  \n",
       "\n",
       "[975 rows x 4 columns]"
      ]
     },
     "execution_count": 93,
     "metadata": {},
     "output_type": "execute_result"
    }
   ],
   "source": [
    "dfu = df.melt(id_vars=['cat', 'sub_cat'])\n",
    "#dfu.columns = ['cat', 'sub_cat','reg','val']\n",
    "dfu"
   ]
  },
  {
   "cell_type": "code",
   "execution_count": 20,
   "id": "420384bb",
   "metadata": {},
   "outputs": [
    {
     "ename": "SyntaxError",
     "evalue": "invalid syntax (<ipython-input-20-15941b7ce2be>, line 2)",
     "output_type": "error",
     "traceback": [
      "\u001b[0;36m  File \u001b[0;32m\"<ipython-input-20-15941b7ce2be>\"\u001b[0;36m, line \u001b[0;32m2\u001b[0m\n\u001b[0;31m    plt.scatter(x=\"variable\", y=\"sub_cat\", s=\"value\",c='cat' data=dfu)\u001b[0m\n\u001b[0m                                                             ^\u001b[0m\n\u001b[0;31mSyntaxError\u001b[0m\u001b[0;31m:\u001b[0m invalid syntax\n"
     ]
    }
   ],
   "source": [
    "dfu[\"value\"] *= 0.1\n",
    "plt.scatter(x=\"variable\", y=\"sub_cat\", s=\"value\",c='cat' data=dfu)\n",
    "plt.margins(.4)\n",
    "plt.show()"
   ]
  },
  {
   "cell_type": "code",
   "execution_count": 78,
   "id": "e9c24a50",
   "metadata": {},
   "outputs": [
    {
     "data": {
      "image/png": "[encoded data removed]",
      "text/plain": [
       "<Figure size 432x72 with 1 Axes>"
      ]
     },
     "metadata": {
      "needs_background": "light"
     },
     "output_type": "display_data"
    }
   ],
   "source": [
    "flatui = [\"#057D46\", \"#7D0532\", \"#91C864\",\"#DC4B64\",\"#005591\",\"#46AFE6\"]\n",
    "sns.palplot(sns.color_palette(flatui, 6))"
   ]
  },
  {
   "cell_type": "code",
   "execution_count": 141,
   "id": "9bb0780e",
   "metadata": {},
   "outputs": [
    {
     "data": {
      "image/png": "[encoded data removed]",
      "text/plain": [
       "<Figure size 360x1080 with 1 Axes>"
      ]
     },
     "metadata": {
      "needs_background": "light"
     },
     "output_type": "display_data"
    }
   ],
   "source": [
    "#sns.set_palette(flatui)\n",
    "plt.rcParams['font.family'] = 'Arial'\n",
    "plt.rcParams['xtick.color'] = 'black'\n",
    "plt.rcParams['ytick.color'] = 'black'\n",
    "colors = [\"#057D46\", \"#7D0532\", \"#91C864\",\"#005591\",\"#DC4B64\",\"#46AFE6\",\"000000\"]\n",
    "customPalette = sns.set_palette(sns.color_palette(colors))\n",
    "#sns.set_palette(sns.color_palette(colors))\n",
    "dfu = df.melt(id_vars=['region'])\n",
    "dfu[\"value\"] *= 0.001\n",
    "dfu[\"value\"].fillna(0)\n",
    "plt.figure(figsize = (5,15))\n",
    "ax = sns.scatterplot(x=\"variable\", y=\"region\", data=dfu, s=dfu[\"value\"],hue='variable',marker='$\\u25A0$', alpha=0.7,palette=customPalette,legend=False)\n",
    "ax.xaxis.label.set_visible(False)\n",
    "ax.yaxis.label.set_visible(False)\n",
    "ax.xaxis.tick_top()\n",
    "plt.xticks(rotation=90)\n",
    "plt.savefig('Stock.jpeg', dpi=400, transparent=True, bbox_inches=\"tight\")\n",
    "plt.show()"
   ]
  },
  {
   "cell_type": "code",
   "execution_count": null,
   "id": "eef269af",
   "metadata": {},
   "outputs": [],
   "source": [
    "plt.figure(figsize = (15,8))\n",
    "ax = sns.barplot(x = 'Date', y = 'Price',data = df)\n",
    "ax.set_xticklabels(ax.get_xticklabels(),rotation = 30)"
   ]
  }
 ],
 "metadata": {
  "kernelspec": {
   "display_name": "Python 3",
   "language": "python",
   "name": "python3"
  },
  "language_info": {
   "codemirror_mode": {
    "name": "ipython",
    "version": 3
   },
   "file_extension": ".py",
   "mimetype": "text/x-python",
   "name": "python",
   "nbconvert_exporter": "python",
   "pygments_lexer": "ipython3",
   "version": "3.8.8"
  }
 },
 "nbformat": 4,
 "nbformat_minor": 5
}
